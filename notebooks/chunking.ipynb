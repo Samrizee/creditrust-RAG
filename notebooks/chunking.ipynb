{
 "cells": [
  {
   "cell_type": "markdown",
   "id": "5ae8f560",
   "metadata": {},
   "source": [
    "load the clean dataset\n"
   ]
  },
  {
   "cell_type": "code",
   "execution_count": 1,
   "id": "0113e10f",
   "metadata": {},
   "outputs": [],
   "source": [
    "import pandas as pd\n",
    "\n",
    "import numpy as np\n",
    "import os"
   ]
  },
  {
   "cell_type": "code",
   "execution_count": 2,
   "id": "2603fd15",
   "metadata": {},
   "outputs": [],
   "source": [
    "cleaned_data_path = '/home/samrawit/creditrust-RAG/data/filtered_and_cleaned_complaints.csv'\n",
    "df_cleaned = pd.read_csv(cleaned_data_path, encoding='utf-8')"
   ]
  },
  {
   "cell_type": "markdown",
   "id": "4526a791",
   "metadata": {},
   "source": [
    "Load the libraries"
   ]
  },
  {
   "cell_type": "code",
   "execution_count": 3,
   "id": "0a19df9a",
   "metadata": {},
   "outputs": [],
   "source": [
    "import pandas as pd\n",
    "from sentence_transformers import SentenceTransformer\n",
    "from langchain.text_splitter import RecursiveCharacterTextSplitter\n",
    "import faiss\n",
    "import numpy as np\n",
    "import os"
   ]
  },
  {
   "cell_type": "code",
   "execution_count": 4,
   "id": "37908678",
   "metadata": {},
   "outputs": [
    {
     "data": {
      "text/plain": [
       "Index(['Date received', 'Product', 'Sub-product', 'Issue', 'Sub-issue',\n",
       "       'Consumer complaint narrative', 'Company public response', 'Company',\n",
       "       'State', 'ZIP code', 'Tags', 'Consumer consent provided?',\n",
       "       'Submitted via', 'Date sent to company', 'Company response to consumer',\n",
       "       'Timely response?', 'Consumer disputed?', 'Complaint ID',\n",
       "       'narrative_length', 'cleaned_narrative'],\n",
       "      dtype='object')"
      ]
     },
     "execution_count": 4,
     "metadata": {},
     "output_type": "execute_result"
    }
   ],
   "source": [
    "df_cleaned.columns\n"
   ]
  },
  {
   "cell_type": "code",
   "execution_count": 6,
   "id": "bc03b39e",
   "metadata": {},
   "outputs": [],
   "source": [
    "df_cleaned_focus = df_cleaned[['Complaint ID', 'Product', 'cleaned_narrative']].copy()\n"
   ]
  },
  {
   "cell_type": "code",
   "execution_count": 7,
   "id": "44157b77",
   "metadata": {},
   "outputs": [],
   "source": [
    "assert 'cleaned_narrative' in df_cleaned_focus.columns, \"Missing 'cleaned_narrative'\"\n",
    "assert 'Complaint ID' in df_cleaned_focus.columns, \"Missing 'Complaint ID'\"\n",
    "assert 'Product' in df_cleaned_focus.columns, \"Missing 'Product'\""
   ]
  },
  {
   "cell_type": "code",
   "execution_count": 12,
   "id": "4b2637ff",
   "metadata": {},
   "outputs": [
    {
     "data": {
      "text/plain": [
       "Index(['Complaint ID', 'Product', 'cleaned_narrative'], dtype='object')"
      ]
     },
     "execution_count": 12,
     "metadata": {},
     "output_type": "execute_result"
    }
   ],
   "source": [
    "df_cleaned_focus.columns"
   ]
  },
  {
   "cell_type": "code",
   "execution_count": 13,
   "id": "fc3932cf",
   "metadata": {},
   "outputs": [
    {
     "data": {
      "text/html": [
       "<div>\n",
       "<style scoped>\n",
       "    .dataframe tbody tr th:only-of-type {\n",
       "        vertical-align: middle;\n",
       "    }\n",
       "\n",
       "    .dataframe tbody tr th {\n",
       "        vertical-align: top;\n",
       "    }\n",
       "\n",
       "    .dataframe thead th {\n",
       "        text-align: right;\n",
       "    }\n",
       "</style>\n",
       "<table border=\"1\" class=\"dataframe\">\n",
       "  <thead>\n",
       "    <tr style=\"text-align: right;\">\n",
       "      <th></th>\n",
       "      <th>Complaint ID</th>\n",
       "      <th>Product</th>\n",
       "      <th>cleaned_narrative</th>\n",
       "    </tr>\n",
       "  </thead>\n",
       "  <tbody>\n",
       "    <tr>\n",
       "      <th>0</th>\n",
       "      <td>14069121</td>\n",
       "      <td>Credit card</td>\n",
       "      <td>card wa opened name fraudster received notice ...</td>\n",
       "    </tr>\n",
       "    <tr>\n",
       "      <th>1</th>\n",
       "      <td>14047085</td>\n",
       "      <td>Credit card</td>\n",
       "      <td>dear cfpb secured credit card citibank changed...</td>\n",
       "    </tr>\n",
       "    <tr>\n",
       "      <th>2</th>\n",
       "      <td>14040217</td>\n",
       "      <td>Credit card</td>\n",
       "      <td>citi reward card credit balance issued wa rece...</td>\n",
       "    </tr>\n",
       "    <tr>\n",
       "      <th>3</th>\n",
       "      <td>13968411</td>\n",
       "      <td>Credit card</td>\n",
       "      <td>bi writing dispute following charge citi credi...</td>\n",
       "    </tr>\n",
       "    <tr>\n",
       "      <th>4</th>\n",
       "      <td>13965746</td>\n",
       "      <td>Credit card</td>\n",
       "      <td>although account deemed closed continued make ...</td>\n",
       "    </tr>\n",
       "  </tbody>\n",
       "</table>\n",
       "</div>"
      ],
      "text/plain": [
       "   Complaint ID      Product  \\\n",
       "0      14069121  Credit card   \n",
       "1      14047085  Credit card   \n",
       "2      14040217  Credit card   \n",
       "3      13968411  Credit card   \n",
       "4      13965746  Credit card   \n",
       "\n",
       "                                   cleaned_narrative  \n",
       "0  card wa opened name fraudster received notice ...  \n",
       "1  dear cfpb secured credit card citibank changed...  \n",
       "2  citi reward card credit balance issued wa rece...  \n",
       "3  bi writing dispute following charge citi credi...  \n",
       "4  although account deemed closed continued make ...  "
      ]
     },
     "execution_count": 13,
     "metadata": {},
     "output_type": "execute_result"
    }
   ],
   "source": [
    "df_cleaned_focus.head()"
   ]
  },
  {
   "cell_type": "markdown",
   "id": "02841030",
   "metadata": {},
   "source": [
    "Text chunking"
   ]
  },
  {
   "cell_type": "markdown",
   "id": "fa610452",
   "metadata": {},
   "source": [
    "Load embedding model"
   ]
  },
  {
   "cell_type": "code",
   "execution_count": 17,
   "id": "18758136",
   "metadata": {},
   "outputs": [
    {
     "name": "stdout",
     "output_type": "stream",
     "text": [
      "Loading embedding model: all-MiniLM-L6-v2...\n",
      "Embedding model loaded successfully.\n",
      "Sample text embedding shape: (384,)\n"
     ]
    }
   ],
   "source": [
    "embedding_model_name = 'all-MiniLM-L6-v2'\n",
    "print(f\"Loading embedding model: {embedding_model_name}...\")\n",
    "\n",
    "try:\n",
    "    model = SentenceTransformer(embedding_model_name)\n",
    "    print(\"Embedding model loaded successfully.\")\n",
    "except Exception as e:\n",
    "    print(f\"Error loading embedding model: {e}\")\n",
    "    raise\n",
    "\n",
    "# Test the model with a sample text\n",
    "sample_text = \"This is a test sentence for the embedding model.\"\n",
    "sample_embedding = model.encode(sample_text)\n",
    "print(f\"Sample text embedding shape: {sample_embedding.shape}\")\n"
   ]
  },
  {
   "cell_type": "markdown",
   "id": "952a9112",
   "metadata": {},
   "source": [
    "Create FAISS index"
   ]
  },
  {
   "cell_type": "code",
   "execution_count": null,
   "id": "2caba755",
   "metadata": {},
   "outputs": [],
   "source": [
    "dimension = embeddings.shape[1]\n",
    "index = faiss.IndexFlatIP(dimension)  \n",
    "\n",
    "print(\"FAISS index created and embeddings added.\")"
   ]
  },
  {
   "cell_type": "code",
   "execution_count": 19,
   "id": "e6eb0ffc",
   "metadata": {},
   "outputs": [
    {
     "data": {
      "application/vnd.jupyter.widget-view+json": {
       "model_id": "8a93a7be07e646468da195c6e99583df",
       "version_major": 2,
       "version_minor": 0
      },
      "text/plain": [
       "Batches:   0%|          | 0/2623 [00:00<?, ?it/s]"
      ]
     },
     "metadata": {},
     "output_type": "display_data"
    },
    {
     "name": "stdout",
     "output_type": "stream",
     "text": [
      "Shape of generated embeddings: (83910, 384)\n"
     ]
    }
   ],
   "source": [
    "list_of_chunk_contents = df_cleaned_focus['cleaned_narrative'].tolist()\n",
    "embeddings_np = model.encode(list_of_chunk_contents, show_progress_bar=True, convert_to_numpy=True)\n",
    "print(f\"Shape of generated embeddings: {embeddings_np.shape}\")"
   ]
  },
  {
   "cell_type": "code",
   "execution_count": 20,
   "id": "128cacf5",
   "metadata": {},
   "outputs": [
    {
     "name": "stdout",
     "output_type": "stream",
     "text": [
      "Total number of vectors in FAISS index: 83910\n"
     ]
    }
   ],
   "source": [
    "faiss_index = faiss.IndexFlatIP(embeddings_np.shape[1])\n",
    "faiss_index.add(embeddings_np)\n",
    "print(f\"Total number of vectors in FAISS index: {faiss_index.ntotal}\")"
   ]
  },
  {
   "cell_type": "markdown",
   "id": "ce7fa01f",
   "metadata": {},
   "source": [
    "Save the FAISS Index and Metadata "
   ]
  },
  {
   "cell_type": "code",
   "execution_count": 25,
   "id": "db9ecb80",
   "metadata": {},
   "outputs": [],
   "source": [
    "\n",
    "vector_store_dir = '../vector_store/'\n",
    "os.makedirs(vector_store_dir, exist_ok=True)"
   ]
  },
  {
   "cell_type": "code",
   "execution_count": 26,
   "id": "0da0e55c",
   "metadata": {},
   "outputs": [],
   "source": [
    "faiss_index_path = os.path.join(vector_store_dir, 'faiss_index.bin')\n",
    "metadata_path = os.path.join(vector_store_dir, 'metadata.json')"
   ]
  },
  {
   "cell_type": "markdown",
   "id": "c7550b05",
   "metadata": {},
   "source": [
    "Save vector index and metadata"
   ]
  },
  {
   "cell_type": "code",
   "execution_count": 27,
   "id": "69270569",
   "metadata": {},
   "outputs": [
    {
     "name": "stdout",
     "output_type": "stream",
     "text": [
      "FAISS index saved.\n",
      "Metadata saved.\n"
     ]
    }
   ],
   "source": [
    "faiss.write_index(faiss_index, faiss_index_path)\n",
    "print(\"FAISS index saved.\")\n",
    "\n",
    "# Prepare metadata\n",
    "metadata = df_cleaned_focus[['Complaint ID', 'Product']].to_dict(orient='records')\n",
    "\n",
    "# Save metadata\n",
    "import json\n",
    "with open(metadata_path, 'w') as f:\n",
    "    json.dump(metadata, f, indent=4)\n",
    "print(\"Metadata saved.\")\n",
    "\n"
   ]
  }
 ],
 "metadata": {
  "kernelspec": {
   "display_name": "base",
   "language": "python",
   "name": "python3"
  },
  "language_info": {
   "codemirror_mode": {
    "name": "ipython",
    "version": 3
   },
   "file_extension": ".py",
   "mimetype": "text/x-python",
   "name": "python",
   "nbconvert_exporter": "python",
   "pygments_lexer": "ipython3",
   "version": "3.12.7"
  }
 },
 "nbformat": 4,
 "nbformat_minor": 5
}
